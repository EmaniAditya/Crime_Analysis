{
 "cells": [
  {
   "cell_type": "code",
   "execution_count": 1,
   "metadata": {},
   "outputs": [],
   "source": [
    "import pandas as pd\n",
    "import numpy as np\n",
    "import matplotlib.pyplot as plt\n",
    "%matplotlib inline"
   ]
  },
  {
   "cell_type": "code",
   "execution_count": 2,
   "metadata": {},
   "outputs": [],
   "source": [
    "features = [[1, 305, 2023]]"
   ]
  },
  {
   "cell_type": "code",
   "execution_count": 3,
   "metadata": {},
   "outputs": [],
   "source": [
    "df1 = pd.read_csv(\"Datasets/classfication_data_with_cluster_labels.csv\")\n",
    "df1.drop([\"Unnamed: 0\"],axis=1,inplace=True)\n",
    "crimes = df1.columns[3:]"
   ]
  },
  {
   "cell_type": "code",
   "execution_count": 4,
   "metadata": {},
   "outputs": [
    {
     "data": {
      "text/plain": [
       "Index(['MURDER', 'ATTEMPT TO MURDER', 'RAPE', 'KIDNAPPING & ABDUCTION',\n",
       "       'DACOITY', 'ROBBERY', 'THEFT', 'HURT/GREVIOUS HURT', 'cluster'],\n",
       "      dtype='object')"
      ]
     },
     "execution_count": 4,
     "metadata": {},
     "output_type": "execute_result"
    }
   ],
   "source": [
    "crimes"
   ]
  },
  {
   "cell_type": "code",
   "execution_count": 5,
   "metadata": {},
   "outputs": [
    {
     "ename": "IndexError",
     "evalue": "index -1 is out of bounds for axis 0 with size 0",
     "output_type": "error",
     "traceback": [
      "\u001b[1;31m---------------------------------------------------------------------------\u001b[0m",
      "\u001b[1;31mIndexError\u001b[0m                                Traceback (most recent call last)",
      "Cell \u001b[1;32mIn[5], line 1\u001b[0m\n\u001b[1;32m----> 1\u001b[0m t \u001b[39m=\u001b[39m \u001b[39mint\u001b[39m(features[\u001b[39m0\u001b[39m][\u001b[39m2\u001b[39m]) \u001b[39m-\u001b[39m df1\u001b[39m.\u001b[39;49mloc[df1[\u001b[39m\"\u001b[39;49m\u001b[39mSTATE/UT\u001b[39;49m\u001b[39m\"\u001b[39;49m]\u001b[39m==\u001b[39;49mfeatures[\u001b[39m0\u001b[39;49m][\u001b[39m0\u001b[39;49m]]\u001b[39m.\u001b[39;49mloc[df1[\u001b[39m\"\u001b[39;49m\u001b[39mDISTRICT\u001b[39;49m\u001b[39m\"\u001b[39;49m]\u001b[39m==\u001b[39;49mfeatures[\u001b[39m0\u001b[39;49m][\u001b[39m1\u001b[39;49m]][\u001b[39m'\u001b[39;49m\u001b[39mYEAR\u001b[39;49m\u001b[39m'\u001b[39;49m]\u001b[39m.\u001b[39;49mvalues[\u001b[39m-\u001b[39;49m\u001b[39m1\u001b[39;49m]\n\u001b[0;32m      2\u001b[0m t\n",
      "\u001b[1;31mIndexError\u001b[0m: index -1 is out of bounds for axis 0 with size 0"
     ]
    }
   ],
   "source": [
    "t = features[0][2] - df1.loc[df1[\"STATE/UT\"]==features[0][0]].loc[df1[\"DISTRICT\"]==features[0][1]]['YEAR'].values[-1]\n",
    "t"
   ]
  },
  {
   "cell_type": "code",
   "execution_count": null,
   "metadata": {},
   "outputs": [],
   "source": []
  }
 ],
 "metadata": {
  "kernelspec": {
   "display_name": "Python 3",
   "language": "python",
   "name": "python3"
  },
  "language_info": {
   "codemirror_mode": {
    "name": "ipython",
    "version": 3
   },
   "file_extension": ".py",
   "mimetype": "text/x-python",
   "name": "python",
   "nbconvert_exporter": "python",
   "pygments_lexer": "ipython3",
   "version": "3.8.0"
  },
  "orig_nbformat": 4
 },
 "nbformat": 4,
 "nbformat_minor": 2
}
