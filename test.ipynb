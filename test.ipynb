{
 "cells": [
  {
   "cell_type": "code",
   "execution_count": 4,
   "metadata": {},
   "outputs": [],
   "source": [
    "import pandas as pd\n",
    "import numpy as np\n",
    "import pickle"
   ]
  },
  {
   "cell_type": "code",
   "execution_count": 8,
   "metadata": {},
   "outputs": [],
   "source": [
    "features = [\"Andhra Pradesh\",\"ADILABAD\",2005]"
   ]
  },
  {
   "cell_type": "code",
   "execution_count": 46,
   "metadata": {},
   "outputs": [
    {
     "data": {
      "text/html": [
       "<div>\n",
       "<style scoped>\n",
       "    .dataframe tbody tr th:only-of-type {\n",
       "        vertical-align: middle;\n",
       "    }\n",
       "\n",
       "    .dataframe tbody tr th {\n",
       "        vertical-align: top;\n",
       "    }\n",
       "\n",
       "    .dataframe thead th {\n",
       "        text-align: right;\n",
       "    }\n",
       "</style>\n",
       "<table border=\"1\" class=\"dataframe\">\n",
       "  <thead>\n",
       "    <tr style=\"text-align: right;\">\n",
       "      <th></th>\n",
       "      <th>STATE/UT</th>\n",
       "      <th>DISTRICT</th>\n",
       "      <th>YEAR</th>\n",
       "      <th>MURDER</th>\n",
       "      <th>ATTEMPT TO MURDER</th>\n",
       "      <th>RAPE</th>\n",
       "      <th>KIDNAPPING &amp; ABDUCTION</th>\n",
       "      <th>DACOITY</th>\n",
       "      <th>ROBBERY</th>\n",
       "      <th>THEFT</th>\n",
       "      <th>HURT/GREVIOUS HURT</th>\n",
       "    </tr>\n",
       "  </thead>\n",
       "  <tbody>\n",
       "    <tr>\n",
       "      <th>0</th>\n",
       "      <td>ANDHRA PRADESH</td>\n",
       "      <td>ADILABAD</td>\n",
       "      <td>2001</td>\n",
       "      <td>101</td>\n",
       "      <td>60</td>\n",
       "      <td>50</td>\n",
       "      <td>46</td>\n",
       "      <td>9</td>\n",
       "      <td>41</td>\n",
       "      <td>199</td>\n",
       "      <td>1131</td>\n",
       "    </tr>\n",
       "    <tr>\n",
       "      <th>1</th>\n",
       "      <td>ANDHRA PRADESH</td>\n",
       "      <td>ANANTAPUR</td>\n",
       "      <td>2001</td>\n",
       "      <td>151</td>\n",
       "      <td>125</td>\n",
       "      <td>23</td>\n",
       "      <td>53</td>\n",
       "      <td>8</td>\n",
       "      <td>16</td>\n",
       "      <td>366</td>\n",
       "      <td>1543</td>\n",
       "    </tr>\n",
       "    <tr>\n",
       "      <th>2</th>\n",
       "      <td>ANDHRA PRADESH</td>\n",
       "      <td>CHITTOOR</td>\n",
       "      <td>2001</td>\n",
       "      <td>101</td>\n",
       "      <td>57</td>\n",
       "      <td>27</td>\n",
       "      <td>59</td>\n",
       "      <td>4</td>\n",
       "      <td>14</td>\n",
       "      <td>723</td>\n",
       "      <td>2088</td>\n",
       "    </tr>\n",
       "    <tr>\n",
       "      <th>3</th>\n",
       "      <td>ANDHRA PRADESH</td>\n",
       "      <td>CUDDAPAH</td>\n",
       "      <td>2001</td>\n",
       "      <td>80</td>\n",
       "      <td>53</td>\n",
       "      <td>20</td>\n",
       "      <td>25</td>\n",
       "      <td>1</td>\n",
       "      <td>4</td>\n",
       "      <td>173</td>\n",
       "      <td>795</td>\n",
       "    </tr>\n",
       "    <tr>\n",
       "      <th>4</th>\n",
       "      <td>ANDHRA PRADESH</td>\n",
       "      <td>EAST GODAVARI</td>\n",
       "      <td>2001</td>\n",
       "      <td>82</td>\n",
       "      <td>67</td>\n",
       "      <td>23</td>\n",
       "      <td>49</td>\n",
       "      <td>4</td>\n",
       "      <td>25</td>\n",
       "      <td>1021</td>\n",
       "      <td>1244</td>\n",
       "    </tr>\n",
       "  </tbody>\n",
       "</table>\n",
       "</div>"
      ],
      "text/plain": [
       "         STATE/UT       DISTRICT  YEAR  MURDER  ATTEMPT TO MURDER  RAPE  \\\n",
       "0  ANDHRA PRADESH       ADILABAD  2001     101                 60    50   \n",
       "1  ANDHRA PRADESH      ANANTAPUR  2001     151                125    23   \n",
       "2  ANDHRA PRADESH       CHITTOOR  2001     101                 57    27   \n",
       "3  ANDHRA PRADESH       CUDDAPAH  2001      80                 53    20   \n",
       "4  ANDHRA PRADESH  EAST GODAVARI  2001      82                 67    23   \n",
       "\n",
       "   KIDNAPPING & ABDUCTION  DACOITY  ROBBERY  THEFT  HURT/GREVIOUS HURT  \n",
       "0                      46        9       41    199                1131  \n",
       "1                      53        8       16    366                1543  \n",
       "2                      59        4       14    723                2088  \n",
       "3                      25        1        4    173                 795  \n",
       "4                      49        4       25   1021                1244  "
      ]
     },
     "execution_count": 46,
     "metadata": {},
     "output_type": "execute_result"
    }
   ],
   "source": [
    "df = pd.read_csv(\"F:\\\\Final Year Project\\\\Datasets\\\\01_District_wise_crimes_committed_IPC_2001_2012.csv\")\n",
    "df.drop([\"CULPABLE HOMICIDE NOT AMOUNTING TO MURDER\", \"CUSTODIAL RAPE\", \"OTHER RAPE\", \"KIDNAPPING AND ABDUCTION OF WOMEN AND GIRLS\", \"KIDNAPPING AND ABDUCTION OF OTHERS\", \"PREPARATION AND ASSEMBLY FOR DACOITY\", \"BURGLARY\", \"AUTO THEFT\", \"OTHER THEFT\", \"CRIMINAL BREACH OF TRUST\", \"CHEATING\", \"COUNTERFIETING\", \"ARSON\", \"ASSAULT ON WOMEN WITH INTENT TO OUTRAGE HER MODESTY\", \"INSULT TO MODESTY OF WOMEN\", \"CRUELTY BY HUSBAND OR HIS RELATIVES\", \"IMPORTATION OF GIRLS FROM FOREIGN COUNTRIES\", \"CAUSING DEATH BY NEGLIGENCE\", \"OTHER IPC CRIMES\",\"TOTAL IPC CRIMES\",\"RIOTS\",\"DOWRY DEATHS\"], axis=1, inplace=True)\n",
    "df = df.loc[df['DISTRICT']!='TOTAL']\n",
    "df = df.loc[df['DISTRICT']!='DELHI UT TOTAL']\n",
    "df.head()"
   ]
  },
  {
   "cell_type": "code",
   "execution_count": 47,
   "metadata": {},
   "outputs": [],
   "source": [
    "df = df.loc[df[\"STATE/UT\"]==features[0].upper()].loc[df[\"DISTRICT\"]==features[1]].loc[df[\"YEAR\"]==features[2]]"
   ]
  },
  {
   "cell_type": "code",
   "execution_count": 48,
   "metadata": {},
   "outputs": [],
   "source": [
    "l = df.values"
   ]
  },
  {
   "cell_type": "code",
   "execution_count": 50,
   "metadata": {},
   "outputs": [],
   "source": [
    "df1 = pd.read_csv(\"Datasets/encoded.csv\")\n",
    "arr = df1.loc[df1[\"STATE/UT\"] == features[0].upper()].loc[df1[\"DISTRICT\"] == features[1]].values\n",
    "l[0][0] = arr[0][2]\n",
    "l[0][1] = arr[0][3]"
   ]
  },
  {
   "cell_type": "code",
   "execution_count": 53,
   "metadata": {},
   "outputs": [
    {
     "data": {
      "text/plain": [
       "array([[1, 3, 2005, 108, 48, 53, 65, 9, 20, 329, 1273]], dtype=object)"
      ]
     },
     "execution_count": 53,
     "metadata": {},
     "output_type": "execute_result"
    }
   ],
   "source": [
    "l"
   ]
  },
  {
   "cell_type": "code",
   "execution_count": 51,
   "metadata": {},
   "outputs": [],
   "source": [
    "rap = pickle.load(open('./Prediction/kmean.pkl','rb'))"
   ]
  },
  {
   "cell_type": "code",
   "execution_count": 52,
   "metadata": {},
   "outputs": [
    {
     "data": {
      "text/plain": [
       "array([2])"
      ]
     },
     "execution_count": 52,
     "metadata": {},
     "output_type": "execute_result"
    }
   ],
   "source": [
    "rap.predict(l)"
   ]
  },
  {
   "cell_type": "code",
   "execution_count": 7,
   "metadata": {},
   "outputs": [],
   "source": [
    "df = pd.read_csv(\"F:\\\\Final Year Project\\\\Datasets\\\\kmeansflask2.csv\")"
   ]
  },
  {
   "cell_type": "code",
   "execution_count": 9,
   "metadata": {},
   "outputs": [],
   "source": [
    "l = df.loc[df[\"STATE/UT\"]==features[0].upper()].loc[df[\"DISTRICT\"]==features[1]].loc[df[\"YEAR\"]==int(features[2])].values"
   ]
  },
  {
   "cell_type": "code",
   "execution_count": 10,
   "metadata": {},
   "outputs": [
    {
     "data": {
      "text/plain": [
       "array([['ANDHRA PRADESH', 'ADILABAD', 2005, -1.708952121, -1.727634339,\n",
       "        -0.47211392, 1.430914047, 0.139525352, 0.8151091659999999,\n",
       "        0.41903290000000004, 0.190915652, -0.17430910100000002,\n",
       "        -0.100395333, 1.5740924619999999]], dtype=object)"
      ]
     },
     "execution_count": 10,
     "metadata": {},
     "output_type": "execute_result"
    }
   ],
   "source": [
    "l"
   ]
  },
  {
   "cell_type": "code",
   "execution_count": 30,
   "metadata": {},
   "outputs": [],
   "source": [
    "final_features = [x for x in l[0] if type(x) == float]"
   ]
  },
  {
   "cell_type": "code",
   "execution_count": 31,
   "metadata": {},
   "outputs": [
    {
     "data": {
      "text/plain": [
       "[-1.708952121,\n",
       " -1.727634339,\n",
       " -0.47211392,\n",
       " 1.430914047,\n",
       " 0.139525352,\n",
       " 0.8151091659999999,\n",
       " 0.41903290000000004,\n",
       " 0.190915652,\n",
       " -0.17430910100000002,\n",
       " -0.100395333,\n",
       " 1.5740924619999999]"
      ]
     },
     "execution_count": 31,
     "metadata": {},
     "output_type": "execute_result"
    }
   ],
   "source": [
    "final_features"
   ]
  },
  {
   "cell_type": "code",
   "execution_count": 1,
   "metadata": {},
   "outputs": [],
   "source": [
    "import pandas as pd"
   ]
  },
  {
   "cell_type": "code",
   "execution_count": 2,
   "metadata": {},
   "outputs": [],
   "source": [
    "ss = pd.read_csv(\"F:\\\\Final Year Project\\\\Datasets\\\\01_District_wise_crimes_committed_IPC_2001_2012.csv\")\n",
    "ss.drop([\"CULPABLE HOMICIDE NOT AMOUNTING TO MURDER\", \"CUSTODIAL RAPE\", \"OTHER RAPE\", \"KIDNAPPING AND ABDUCTION OF WOMEN AND GIRLS\", \"KIDNAPPING AND ABDUCTION OF OTHERS\", \"PREPARATION AND ASSEMBLY FOR DACOITY\", \"BURGLARY\", \"AUTO THEFT\", \"OTHER THEFT\", \"CRIMINAL BREACH OF TRUST\", \"CHEATING\", \"COUNTERFIETING\", \"ARSON\", \"ASSAULT ON WOMEN WITH INTENT TO OUTRAGE HER MODESTY\", \"INSULT TO MODESTY OF WOMEN\", \"CRUELTY BY HUSBAND OR HIS RELATIVES\", \"IMPORTATION OF GIRLS FROM FOREIGN COUNTRIES\", \"CAUSING DEATH BY NEGLIGENCE\", \"OTHER IPC CRIMES\",\"TOTAL IPC CRIMES\",\"RIOTS\",\"DOWRY DEATHS\"], axis=1, inplace=True)\n",
    "ss = ss.loc[ss['DISTRICT']!='TOTAL']\n",
    "ss = ss.loc[ss['DISTRICT']!='DELHI UT TOTAL']"
   ]
  },
  {
   "cell_type": "code",
   "execution_count": null,
   "metadata": {},
   "outputs": [],
   "source": []
  }
 ],
 "metadata": {
  "kernelspec": {
   "display_name": "Python 3",
   "language": "python",
   "name": "python3"
  },
  "language_info": {
   "codemirror_mode": {
    "name": "ipython",
    "version": 3
   },
   "file_extension": ".py",
   "mimetype": "text/x-python",
   "name": "python",
   "nbconvert_exporter": "python",
   "pygments_lexer": "ipython3",
   "version": "3.8.0"
  },
  "orig_nbformat": 4
 },
 "nbformat": 4,
 "nbformat_minor": 2
}
